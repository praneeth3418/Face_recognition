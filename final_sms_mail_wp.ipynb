{
 "cells": [
  {
   "cell_type": "code",
   "execution_count": 1,
   "id": "a053a878",
   "metadata": {},
   "outputs": [],
   "source": [
    "from keras.models import load_model\n",
    "import cv2\n",
    "from  keras.preprocessing  import image as pre\n",
    "from twilio.rest import Client\n",
    "import smtplib"
   ]
  },
  {
   "cell_type": "code",
   "execution_count": 2,
   "id": "42863691",
   "metadata": {},
   "outputs": [],
   "source": [
    "modelf=load_model('face_det_lenet4.h5')\n",
    "model=cv2.CascadeClassifier('haarcascade_frontalface_default.xml')"
   ]
  },
  {
   "cell_type": "code",
   "execution_count": 3,
   "id": "cc4a5264",
   "metadata": {},
   "outputs": [],
   "source": [
    "import numpy as np\n",
    "classification={\n",
    "    \"[0]\":\"sai\",\n",
    "    \"[1]\":\"praneeth\",\n",
    "    \"[2]\":\"vishnu\"\n",
    "}\n",
    "whatapp_classification={\n",
    "    \"sai\":\"+91630*******\",\n",
    "    \"praneeth\":\"+91******501\",\n",
    "    \"vishnu\":\"+91733******\"\n",
    "}\n",
    "email_classification={\n",
    "    \"sai\":\"sai********@gmail.com\",\n",
    "    \"praneeth\":\"pra********@gmail.com\",\n",
    "    \"vishnu\":\"vis********@gmail.com\"\n",
    "}"
   ]
  },
  {
   "cell_type": "code",
   "execution_count": 4,
   "id": "910b04cf",
   "metadata": {},
   "outputs": [],
   "source": [
    "import pywhatkit\n",
    "import time\n",
    "def whatmsg(number,name):\n",
    "    hour=time.strftime(\"%H\")\n",
    "    minutes=time.strftime(\"%M\")\n",
    "    h=int(hour)\n",
    "    m=int(minutes)+1\n",
    "    message=name+\" u r detected\"\n",
    "    pywhatkit.sendwhatmsg(number,message,h,m)"
   ]
  },
  {
   "cell_type": "code",
   "execution_count": 5,
   "id": "96831912",
   "metadata": {},
   "outputs": [],
   "source": [
    "def face(photo):\n",
    "    faces=model.detectMultiScale(photo)\n",
    "    if(len(faces)==0):\n",
    "        return None\n",
    "    else:\n",
    "        x1=faces[0][0]\n",
    "        y1=faces[0][1]\n",
    "        x2=x1+faces[0][2]\n",
    "        y2=y1+faces[0][3]\n",
    "        rphoto=photo[y1-20:y2+20,x1-20:x2+20]\n",
    "        return rphoto"
   ]
  },
  {
   "cell_type": "code",
   "execution_count": null,
   "id": "1aa0a1eb",
   "metadata": {},
   "outputs": [],
   "source": []
  },
  {
   "cell_type": "code",
   "execution_count": 6,
   "id": "64ab6e1a",
   "metadata": {},
   "outputs": [],
   "source": [
    "def email_send(recv_mail):\n",
    "    server=smtplib.SMTP_SSL(\"smtp.gmail.com\",465)\n",
    "    sender_email=\"praneeth********@gmail.com\"\n",
    "    sender_pass=\"*********\"\n",
    "    server.login(sender_email,sender_pass)\n",
    "    server.sendmail(sender_email,recv_mail,\"hello\")\n",
    "    server.quit()"
   ]
  },
  {
   "cell_type": "code",
   "execution_count": 9,
   "id": "97d8a267",
   "metadata": {},
   "outputs": [],
   "source": [
    "def send_sms(name,mobile_number):\n",
    "    account_sid=\"ACdf2ae******************\"\n",
    "    auth_token=\"2469161*****************\"\n",
    "    client=Client(account_sid,auth_token)\n",
    "    client.messages.create(\n",
    "             to=\"+91630********\",\n",
    "             from_=\"+1832******\",\n",
    "             body=name+\"u r detected\"\n",
    "       )"
   ]
  },
  {
   "cell_type": "code",
   "execution_count": 11,
   "id": "5ef93f72",
   "metadata": {},
   "outputs": [
    {
     "name": "stdout",
     "output_type": "stream",
     "text": [
      "In 38 seconds web.whatsapp.com will open and after 20 seconds message will be delivered\n"
     ]
    }
   ],
   "source": [
    "from PIL import Image\n",
    "test_i=cv2.imread('test//praneeth//praneeth.2010.jpg')\n",
    "nimage=face(test_i)\n",
    "if nimage is not None:\n",
    "    cv2.imwrite('testing.jpg',nimage)\n",
    "    image=Image.open('testing.jpg')\n",
    "    image.show()\n",
    "    fimage=image.resize((64,64))\n",
    "    d_test_i=np.expand_dims(fimage,axis=0)\n",
    "    res=modelf.predict(d_test_i)\n",
    "    resulta = np.where(res == np.amax(res))\n",
    "    final_res=max(resulta)\n",
    "    name=classification[str(final_res)]\n",
    "    number=whatapp_classification[name]\n",
    "    recv_mail=email_classification[name]\n",
    "    whatmsg(number,name)\n",
    "    send_sms(name,number)\n",
    "    \n",
    "else :\n",
    "    print(\"None\")"
   ]
  },
  {
   "cell_type": "code",
   "execution_count": null,
   "id": "d918c4e0",
   "metadata": {},
   "outputs": [],
   "source": []
  },
  {
   "cell_type": "code",
   "execution_count": null,
   "id": "ec7841b2",
   "metadata": {},
   "outputs": [],
   "source": []
  },
  {
   "cell_type": "code",
   "execution_count": null,
   "id": "54f1d5e9",
   "metadata": {},
   "outputs": [],
   "source": []
  },
  {
   "cell_type": "code",
   "execution_count": null,
   "id": "dc55d6aa",
   "metadata": {},
   "outputs": [],
   "source": []
  },
  {
   "cell_type": "code",
   "execution_count": null,
   "id": "27fce3b1",
   "metadata": {},
   "outputs": [],
   "source": []
  },
  {
   "cell_type": "code",
   "execution_count": null,
   "id": "8e105340",
   "metadata": {},
   "outputs": [],
   "source": []
  },
  {
   "cell_type": "code",
   "execution_count": null,
   "id": "507bb15c",
   "metadata": {},
   "outputs": [],
   "source": []
  },
  {
   "cell_type": "code",
   "execution_count": null,
   "id": "2b29503f",
   "metadata": {},
   "outputs": [],
   "source": []
  },
  {
   "cell_type": "code",
   "execution_count": null,
   "id": "303f94d4",
   "metadata": {},
   "outputs": [],
   "source": []
  },
  {
   "cell_type": "code",
   "execution_count": null,
   "id": "b541e76a",
   "metadata": {},
   "outputs": [],
   "source": []
  }
 ],
 "metadata": {
  "kernelspec": {
   "display_name": "Python 3",
   "language": "python",
   "name": "python3"
  },
  "language_info": {
   "codemirror_mode": {
    "name": "ipython",
    "version": 3
   },
   "file_extension": ".py",
   "mimetype": "text/x-python",
   "name": "python",
   "nbconvert_exporter": "python",
   "pygments_lexer": "ipython3",
   "version": "3.8.8"
  }
 },
 "nbformat": 4,
 "nbformat_minor": 5
}
