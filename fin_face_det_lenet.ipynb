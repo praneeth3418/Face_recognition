{
  "nbformat": 4,
  "nbformat_minor": 0,
  "metadata": {
    "colab": {
      "name": "fin_face_det_lenet.ipynb",
      "provenance": [],
      "collapsed_sections": []
    },
    "kernelspec": {
      "name": "python3",
      "display_name": "Python 3"
    },
    "language_info": {
      "name": "python"
    }
  },
  "cells": [
    {
      "cell_type": "code",
      "metadata": {
        "id": "_dvrqDosH9iq"
      },
      "source": [
        "from keras.models import Sequential\n",
        "from keras.layers import Dense, Dropout, Activation, Flatten\n",
        "from keras.layers import Conv2D, MaxPooling2D, ZeroPadding2D\n",
        "from keras.layers.normalization import BatchNormalization\n",
        "#from keras.regularizers import l2\n",
        "import cv2"
      ],
      "execution_count": 1,
      "outputs": []
    },
    {
      "cell_type": "code",
      "metadata": {
        "id": "I2G4eYQMNzUs"
      },
      "source": [
        "model=Sequential()"
      ],
      "execution_count": 2,
      "outputs": []
    },
    {
      "cell_type": "code",
      "metadata": {
        "id": "AZ9AmK5QN2lK"
      },
      "source": [
        "model.add(Conv2D(20,(5,5),input_shape=(64,64,3),padding=\"same\"))\n",
        "model.add(Activation(\"relu\"))\n",
        "model.add(MaxPooling2D(pool_size=(2,2)))\n",
        "model.add(Activation(\"relu\"))\n",
        "model.add(Conv2D(40,(5,5),padding=\"same\"))\n",
        "model.add(Activation(\"relu\"))\n",
        "model.add(MaxPooling2D(pool_size=(2,2)))\n",
        "model.add(Activation(\"relu\"))\n",
        "model.add(Conv2D(45,(5,5),padding=\"same\"))\n",
        "model.add(Activation(\"relu\"))\n",
        "model.add(MaxPooling2D(pool_size=(2,2),strides = (2, 2)))\n",
        "model.add(Activation(\"relu\"))\n",
        "model.add(Flatten())\n",
        "model.add(Dense(units=500))\n",
        "model.add(Activation(\"relu\"))\n",
        "#model.add(Dense(units=260))\n",
        "#model.add(Activation(\"relu\"))\n",
        "model.add(Dense(units=64))\n",
        "model.add(Activation(\"relu\"))\n",
        "model.add(Dense(units=3,activation='softmax'))"
      ],
      "execution_count": 3,
      "outputs": []
    },
    {
      "cell_type": "code",
      "metadata": {
        "colab": {
          "base_uri": "https://localhost:8080/"
        },
        "id": "4wydLAUoN6WT",
        "outputId": "9d022829-d544-47bf-8293-d0c313d5ca6a"
      },
      "source": [
        "model.get_config()"
      ],
      "execution_count": 4,
      "outputs": [
        {
          "output_type": "execute_result",
          "data": {
            "text/plain": [
              "{'layers': [{'class_name': 'InputLayer',\n",
              "   'config': {'batch_input_shape': (None, 64, 64, 3),\n",
              "    'dtype': 'float32',\n",
              "    'name': 'conv2d_input',\n",
              "    'ragged': False,\n",
              "    'sparse': False}},\n",
              "  {'class_name': 'Conv2D',\n",
              "   'config': {'activation': 'linear',\n",
              "    'activity_regularizer': None,\n",
              "    'batch_input_shape': (None, 64, 64, 3),\n",
              "    'bias_constraint': None,\n",
              "    'bias_initializer': {'class_name': 'Zeros', 'config': {}},\n",
              "    'bias_regularizer': None,\n",
              "    'data_format': 'channels_last',\n",
              "    'dilation_rate': (1, 1),\n",
              "    'dtype': 'float32',\n",
              "    'filters': 20,\n",
              "    'groups': 1,\n",
              "    'kernel_constraint': None,\n",
              "    'kernel_initializer': {'class_name': 'GlorotUniform',\n",
              "     'config': {'seed': None}},\n",
              "    'kernel_regularizer': None,\n",
              "    'kernel_size': (5, 5),\n",
              "    'name': 'conv2d',\n",
              "    'padding': 'same',\n",
              "    'strides': (1, 1),\n",
              "    'trainable': True,\n",
              "    'use_bias': True}},\n",
              "  {'class_name': 'Activation',\n",
              "   'config': {'activation': 'relu',\n",
              "    'dtype': 'float32',\n",
              "    'name': 'activation',\n",
              "    'trainable': True}},\n",
              "  {'class_name': 'MaxPooling2D',\n",
              "   'config': {'data_format': 'channels_last',\n",
              "    'dtype': 'float32',\n",
              "    'name': 'max_pooling2d',\n",
              "    'padding': 'valid',\n",
              "    'pool_size': (2, 2),\n",
              "    'strides': (2, 2),\n",
              "    'trainable': True}},\n",
              "  {'class_name': 'Activation',\n",
              "   'config': {'activation': 'relu',\n",
              "    'dtype': 'float32',\n",
              "    'name': 'activation_1',\n",
              "    'trainable': True}},\n",
              "  {'class_name': 'Conv2D',\n",
              "   'config': {'activation': 'linear',\n",
              "    'activity_regularizer': None,\n",
              "    'bias_constraint': None,\n",
              "    'bias_initializer': {'class_name': 'Zeros', 'config': {}},\n",
              "    'bias_regularizer': None,\n",
              "    'data_format': 'channels_last',\n",
              "    'dilation_rate': (1, 1),\n",
              "    'dtype': 'float32',\n",
              "    'filters': 40,\n",
              "    'groups': 1,\n",
              "    'kernel_constraint': None,\n",
              "    'kernel_initializer': {'class_name': 'GlorotUniform',\n",
              "     'config': {'seed': None}},\n",
              "    'kernel_regularizer': None,\n",
              "    'kernel_size': (5, 5),\n",
              "    'name': 'conv2d_1',\n",
              "    'padding': 'same',\n",
              "    'strides': (1, 1),\n",
              "    'trainable': True,\n",
              "    'use_bias': True}},\n",
              "  {'class_name': 'Activation',\n",
              "   'config': {'activation': 'relu',\n",
              "    'dtype': 'float32',\n",
              "    'name': 'activation_2',\n",
              "    'trainable': True}},\n",
              "  {'class_name': 'MaxPooling2D',\n",
              "   'config': {'data_format': 'channels_last',\n",
              "    'dtype': 'float32',\n",
              "    'name': 'max_pooling2d_1',\n",
              "    'padding': 'valid',\n",
              "    'pool_size': (2, 2),\n",
              "    'strides': (2, 2),\n",
              "    'trainable': True}},\n",
              "  {'class_name': 'Activation',\n",
              "   'config': {'activation': 'relu',\n",
              "    'dtype': 'float32',\n",
              "    'name': 'activation_3',\n",
              "    'trainable': True}},\n",
              "  {'class_name': 'Conv2D',\n",
              "   'config': {'activation': 'linear',\n",
              "    'activity_regularizer': None,\n",
              "    'bias_constraint': None,\n",
              "    'bias_initializer': {'class_name': 'Zeros', 'config': {}},\n",
              "    'bias_regularizer': None,\n",
              "    'data_format': 'channels_last',\n",
              "    'dilation_rate': (1, 1),\n",
              "    'dtype': 'float32',\n",
              "    'filters': 45,\n",
              "    'groups': 1,\n",
              "    'kernel_constraint': None,\n",
              "    'kernel_initializer': {'class_name': 'GlorotUniform',\n",
              "     'config': {'seed': None}},\n",
              "    'kernel_regularizer': None,\n",
              "    'kernel_size': (5, 5),\n",
              "    'name': 'conv2d_2',\n",
              "    'padding': 'same',\n",
              "    'strides': (1, 1),\n",
              "    'trainable': True,\n",
              "    'use_bias': True}},\n",
              "  {'class_name': 'Activation',\n",
              "   'config': {'activation': 'relu',\n",
              "    'dtype': 'float32',\n",
              "    'name': 'activation_4',\n",
              "    'trainable': True}},\n",
              "  {'class_name': 'MaxPooling2D',\n",
              "   'config': {'data_format': 'channels_last',\n",
              "    'dtype': 'float32',\n",
              "    'name': 'max_pooling2d_2',\n",
              "    'padding': 'valid',\n",
              "    'pool_size': (2, 2),\n",
              "    'strides': (2, 2),\n",
              "    'trainable': True}},\n",
              "  {'class_name': 'Activation',\n",
              "   'config': {'activation': 'relu',\n",
              "    'dtype': 'float32',\n",
              "    'name': 'activation_5',\n",
              "    'trainable': True}},\n",
              "  {'class_name': 'Flatten',\n",
              "   'config': {'data_format': 'channels_last',\n",
              "    'dtype': 'float32',\n",
              "    'name': 'flatten',\n",
              "    'trainable': True}},\n",
              "  {'class_name': 'Dense',\n",
              "   'config': {'activation': 'linear',\n",
              "    'activity_regularizer': None,\n",
              "    'bias_constraint': None,\n",
              "    'bias_initializer': {'class_name': 'Zeros', 'config': {}},\n",
              "    'bias_regularizer': None,\n",
              "    'dtype': 'float32',\n",
              "    'kernel_constraint': None,\n",
              "    'kernel_initializer': {'class_name': 'GlorotUniform',\n",
              "     'config': {'seed': None}},\n",
              "    'kernel_regularizer': None,\n",
              "    'name': 'dense',\n",
              "    'trainable': True,\n",
              "    'units': 500,\n",
              "    'use_bias': True}},\n",
              "  {'class_name': 'Activation',\n",
              "   'config': {'activation': 'relu',\n",
              "    'dtype': 'float32',\n",
              "    'name': 'activation_6',\n",
              "    'trainable': True}},\n",
              "  {'class_name': 'Dense',\n",
              "   'config': {'activation': 'linear',\n",
              "    'activity_regularizer': None,\n",
              "    'bias_constraint': None,\n",
              "    'bias_initializer': {'class_name': 'Zeros', 'config': {}},\n",
              "    'bias_regularizer': None,\n",
              "    'dtype': 'float32',\n",
              "    'kernel_constraint': None,\n",
              "    'kernel_initializer': {'class_name': 'GlorotUniform',\n",
              "     'config': {'seed': None}},\n",
              "    'kernel_regularizer': None,\n",
              "    'name': 'dense_1',\n",
              "    'trainable': True,\n",
              "    'units': 64,\n",
              "    'use_bias': True}},\n",
              "  {'class_name': 'Activation',\n",
              "   'config': {'activation': 'relu',\n",
              "    'dtype': 'float32',\n",
              "    'name': 'activation_7',\n",
              "    'trainable': True}},\n",
              "  {'class_name': 'Dense',\n",
              "   'config': {'activation': 'softmax',\n",
              "    'activity_regularizer': None,\n",
              "    'bias_constraint': None,\n",
              "    'bias_initializer': {'class_name': 'Zeros', 'config': {}},\n",
              "    'bias_regularizer': None,\n",
              "    'dtype': 'float32',\n",
              "    'kernel_constraint': None,\n",
              "    'kernel_initializer': {'class_name': 'GlorotUniform',\n",
              "     'config': {'seed': None}},\n",
              "    'kernel_regularizer': None,\n",
              "    'name': 'dense_2',\n",
              "    'trainable': True,\n",
              "    'units': 3,\n",
              "    'use_bias': True}}],\n",
              " 'name': 'sequential'}"
            ]
          },
          "metadata": {
            "tags": []
          },
          "execution_count": 4
        }
      ]
    },
    {
      "cell_type": "code",
      "metadata": {
        "id": "fSiMgOQ_N-Fl"
      },
      "source": [
        "from keras.optimizers import Adam\n",
        "model.compile(loss='categorical_crossentropy',optimizer='Adam',metrics=['accuracy'])"
      ],
      "execution_count": 5,
      "outputs": []
    },
    {
      "cell_type": "code",
      "metadata": {
        "colab": {
          "base_uri": "https://localhost:8080/"
        },
        "id": "3AIiyp43OCi6",
        "outputId": "63029767-98b6-49db-9923-9ac8ae9ac84a"
      },
      "source": [
        "model.summary()"
      ],
      "execution_count": 6,
      "outputs": [
        {
          "output_type": "stream",
          "text": [
            "Model: \"sequential\"\n",
            "_________________________________________________________________\n",
            "Layer (type)                 Output Shape              Param #   \n",
            "=================================================================\n",
            "conv2d (Conv2D)              (None, 64, 64, 20)        1520      \n",
            "_________________________________________________________________\n",
            "activation (Activation)      (None, 64, 64, 20)        0         \n",
            "_________________________________________________________________\n",
            "max_pooling2d (MaxPooling2D) (None, 32, 32, 20)        0         \n",
            "_________________________________________________________________\n",
            "activation_1 (Activation)    (None, 32, 32, 20)        0         \n",
            "_________________________________________________________________\n",
            "conv2d_1 (Conv2D)            (None, 32, 32, 40)        20040     \n",
            "_________________________________________________________________\n",
            "activation_2 (Activation)    (None, 32, 32, 40)        0         \n",
            "_________________________________________________________________\n",
            "max_pooling2d_1 (MaxPooling2 (None, 16, 16, 40)        0         \n",
            "_________________________________________________________________\n",
            "activation_3 (Activation)    (None, 16, 16, 40)        0         \n",
            "_________________________________________________________________\n",
            "conv2d_2 (Conv2D)            (None, 16, 16, 45)        45045     \n",
            "_________________________________________________________________\n",
            "activation_4 (Activation)    (None, 16, 16, 45)        0         \n",
            "_________________________________________________________________\n",
            "max_pooling2d_2 (MaxPooling2 (None, 8, 8, 45)          0         \n",
            "_________________________________________________________________\n",
            "activation_5 (Activation)    (None, 8, 8, 45)          0         \n",
            "_________________________________________________________________\n",
            "flatten (Flatten)            (None, 2880)              0         \n",
            "_________________________________________________________________\n",
            "dense (Dense)                (None, 500)               1440500   \n",
            "_________________________________________________________________\n",
            "activation_6 (Activation)    (None, 500)               0         \n",
            "_________________________________________________________________\n",
            "dense_1 (Dense)              (None, 64)                32064     \n",
            "_________________________________________________________________\n",
            "activation_7 (Activation)    (None, 64)                0         \n",
            "_________________________________________________________________\n",
            "dense_2 (Dense)              (None, 3)                 195       \n",
            "=================================================================\n",
            "Total params: 1,539,364\n",
            "Trainable params: 1,539,364\n",
            "Non-trainable params: 0\n",
            "_________________________________________________________________\n"
          ],
          "name": "stdout"
        }
      ]
    },
    {
      "cell_type": "code",
      "metadata": {
        "id": "gxLoLnqlOHKT"
      },
      "source": [
        "from keras_preprocessing.image import ImageDataGenerator"
      ],
      "execution_count": 7,
      "outputs": []
    },
    {
      "cell_type": "code",
      "metadata": {
        "colab": {
          "base_uri": "https://localhost:8080/"
        },
        "id": "X6DzOkwuONEe",
        "outputId": "c2695491-22bf-48bc-aecb-e9dc02e6e719"
      },
      "source": [
        "train_datagen = ImageDataGenerator(\n",
        "        rescale=1./255,\n",
        "        shear_range=0.2,\n",
        "        zoom_range=0.2,\n",
        "        horizontal_flip=True)\n",
        "\n",
        "test_datagen = ImageDataGenerator(rescale=1./255)\n",
        "\n",
        "\n",
        "train_generator = train_datagen.flow_from_directory(\n",
        "        '/content/drive/MyDrive/face_detec/train',\n",
        "        target_size=(64, 64),\n",
        "        batch_size=32,\n",
        "        class_mode='categorical')\n",
        "\n",
        "validation_generator = test_datagen.flow_from_directory(\n",
        "        '/content/drive/MyDrive/face_detec/test',\n",
        "        target_size=(64, 64),\n",
        "        batch_size=32,\n",
        "        class_mode='categorical')"
      ],
      "execution_count": 8,
      "outputs": [
        {
          "output_type": "stream",
          "text": [
            "Found 4753 images belonging to 3 classes.\n",
            "Found 552 images belonging to 3 classes.\n"
          ],
          "name": "stdout"
        }
      ]
    },
    {
      "cell_type": "code",
      "metadata": {
        "colab": {
          "base_uri": "https://localhost:8080/"
        },
        "id": "gTkMaVbsO4kn",
        "outputId": "1e154e2b-3d25-4426-b880-bbb39bdb2097"
      },
      "source": [
        "model.fit(\n",
        "        train_generator,\n",
        "        steps_per_epoch=10,\n",
        "        epochs=10,\n",
        "        validation_data=validation_generator,\n",
        "        validation_steps=40)"
      ],
      "execution_count": 9,
      "outputs": [
        {
          "output_type": "stream",
          "text": [
            "Epoch 1/10\n",
            "10/10 [==============================] - 81s 7s/step - loss: 1.0531 - accuracy: 0.4560 - val_loss: 1.0499 - val_accuracy: 0.4050\n",
            "Epoch 2/10\n",
            "10/10 [==============================] - 37s 4s/step - loss: 0.6886 - accuracy: 0.7134 - val_loss: 0.8518 - val_accuracy: 0.6729\n",
            "Epoch 3/10\n",
            "10/10 [==============================] - 40s 4s/step - loss: 0.4042 - accuracy: 0.8443 - val_loss: 0.3582 - val_accuracy: 0.8563\n",
            "Epoch 4/10\n",
            "10/10 [==============================] - 36s 4s/step - loss: 0.2891 - accuracy: 0.8882 - val_loss: 0.2227 - val_accuracy: 0.9305\n",
            "Epoch 5/10\n",
            "10/10 [==============================] - 38s 4s/step - loss: 0.1528 - accuracy: 0.9598 - val_loss: 0.1786 - val_accuracy: 0.9383\n",
            "Epoch 6/10\n",
            "10/10 [==============================] - 35s 4s/step - loss: 0.1602 - accuracy: 0.9572 - val_loss: 0.0874 - val_accuracy: 0.9619\n",
            "Epoch 7/10\n",
            "10/10 [==============================] - 32s 4s/step - loss: 0.1275 - accuracy: 0.9545 - val_loss: 0.0631 - val_accuracy: 0.9830\n",
            "Epoch 8/10\n",
            "10/10 [==============================] - 40s 4s/step - loss: 0.1485 - accuracy: 0.9402 - val_loss: 0.0706 - val_accuracy: 0.9768\n",
            "Epoch 9/10\n",
            "10/10 [==============================] - 38s 4s/step - loss: 0.1046 - accuracy: 0.9572 - val_loss: 0.1481 - val_accuracy: 0.9489\n",
            "Epoch 10/10\n",
            "10/10 [==============================] - 40s 4s/step - loss: 0.0568 - accuracy: 0.9816 - val_loss: 0.0946 - val_accuracy: 0.9586\n"
          ],
          "name": "stdout"
        },
        {
          "output_type": "execute_result",
          "data": {
            "text/plain": [
              "<keras.callbacks.History at 0x7fae61170d50>"
            ]
          },
          "metadata": {
            "tags": []
          },
          "execution_count": 9
        }
      ]
    },
    {
      "cell_type": "code",
      "metadata": {
        "id": "_iqZ8hl0oPUs"
      },
      "source": [
        "model.save('face_det_lenet4.h5')\n",
        "\n"
      ],
      "execution_count": 34,
      "outputs": []
    },
    {
      "cell_type": "code",
      "metadata": {
        "id": "Pa8aV_fpPGvP"
      },
      "source": [
        ""
      ],
      "execution_count": null,
      "outputs": []
    },
    {
      "cell_type": "code",
      "metadata": {
        "id": "b9zilU1wONr0"
      },
      "source": [
        ""
      ],
      "execution_count": null,
      "outputs": []
    },
    {
      "cell_type": "code",
      "metadata": {
        "id": "M153fgRFDjFd"
      },
      "source": [
        ""
      ],
      "execution_count": null,
      "outputs": []
    },
    {
      "cell_type": "code",
      "metadata": {
        "id": "HiNIqVzWDjHj"
      },
      "source": [
        ""
      ],
      "execution_count": null,
      "outputs": []
    },
    {
      "cell_type": "code",
      "metadata": {
        "id": "WG89Ib6TDjK-"
      },
      "source": [
        ""
      ],
      "execution_count": null,
      "outputs": []
    },
    {
      "cell_type": "code",
      "metadata": {
        "id": "qwgHIGc5PCDY"
      },
      "source": [
        ""
      ],
      "execution_count": null,
      "outputs": []
    },
    {
      "cell_type": "code",
      "metadata": {
        "id": "dMv5eO9XK0I2"
      },
      "source": [
        ""
      ],
      "execution_count": null,
      "outputs": []
    },
    {
      "cell_type": "code",
      "metadata": {
        "id": "Ib3mVrK0K8Xa"
      },
      "source": [
        ""
      ],
      "execution_count": null,
      "outputs": []
    },
    {
      "cell_type": "code",
      "metadata": {
        "id": "Mv_xb-UcoQ_8"
      },
      "source": [
        ""
      ],
      "execution_count": null,
      "outputs": []
    },
    {
      "cell_type": "code",
      "metadata": {
        "id": "8r5vKSvboRSF"
      },
      "source": [
        ""
      ],
      "execution_count": null,
      "outputs": []
    },
    {
      "cell_type": "code",
      "metadata": {
        "id": "euKqDE3CoRfZ"
      },
      "source": [
        ""
      ],
      "execution_count": null,
      "outputs": []
    },
    {
      "cell_type": "code",
      "metadata": {
        "id": "H5Ek3H8QpEQ7"
      },
      "source": [
        ""
      ],
      "execution_count": null,
      "outputs": []
    },
    {
      "cell_type": "code",
      "metadata": {
        "id": "HMhRx67ApLKO"
      },
      "source": [
        ""
      ],
      "execution_count": null,
      "outputs": []
    },
    {
      "cell_type": "code",
      "metadata": {
        "id": "WBfPnxmMDpDq"
      },
      "source": [
        ""
      ],
      "execution_count": null,
      "outputs": []
    },
    {
      "cell_type": "code",
      "metadata": {
        "id": "6E9DbTI6ghes"
      },
      "source": [
        ""
      ],
      "execution_count": null,
      "outputs": []
    },
    {
      "cell_type": "code",
      "metadata": {
        "id": "0o98uXPJgp47"
      },
      "source": [
        ""
      ],
      "execution_count": null,
      "outputs": []
    },
    {
      "cell_type": "code",
      "metadata": {
        "id": "VSCH7OdFgu6k"
      },
      "source": [
        ""
      ],
      "execution_count": null,
      "outputs": []
    },
    {
      "cell_type": "code",
      "metadata": {
        "id": "4U9M6l8Bg0pq"
      },
      "source": [
        ""
      ],
      "execution_count": null,
      "outputs": []
    },
    {
      "cell_type": "code",
      "metadata": {
        "id": "QfVPJEZEg4LQ"
      },
      "source": [
        ""
      ],
      "execution_count": null,
      "outputs": []
    }
  ]
}